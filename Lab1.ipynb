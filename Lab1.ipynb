{
 "cells": [
  {
   "cell_type": "markdown",
   "id": "7bd633fe",
   "metadata": {},
   "source": [
    "Learning Outcomes\n",
    "================\n",
    "\n",
    "The learning outcomes of this session are\n",
    "\n",
    "-   to have an introductory understanding of Jupyter notebooks.\n",
    "\n",
    "-   To have an introductory understanding of the library NumPy,\n",
    "    particularly with respect to vectors.\n",
    "\n",
    "-   To examine a case where vectors can be analysed that have a much\n",
    "    larger dimension than 3.\n",
    "\n",
    "Notebooks\n",
    "=========\n",
    "\n",
    "If you haven’t encountered this before this is an example of a notebook\n",
    "(specifically a Jupyter notebook). This brings together text and code\n",
    "into one place.\n",
    "\n",
    "The parts of this screen which have \"In \\[ \\]:\" to the left are referred\n",
    "to as cells. Cells are pieces of code that can be run. You can run the\n",
    "cells by clicking on the cell and pressing Control + Enter.\n",
    "\n",
    "If the cell generates output it will appear immediately after the cell\n",
    "in question when you do this.\n",
    "\n",
    "Do not just click through all the cells without thinking about what each\n",
    "cell is going to do.\n",
    "\n",
    "**There will be cells that are empty - you will need to fill them!**\n",
    "\n",
    "It’s important to note that the cells are in order and you should enter\n",
    "them in that order.\n",
    "\n",
    "For this section, you will be largely running things interactively but\n",
    "it’s best to set up an editor window, type in there and then run the\n",
    "script (The F5 key will very much be your friend here).\n",
    "\n",
    "If you click on Help and Keyboard Shortcuts you will get a list of\n",
    "shortcuts for doing particular operations (I find the one for creating a\n",
    "cell below the one you are using is very useful).\n",
    "\n",
    "If you want to save your notebook you can click on the diskette icon but\n",
    "remember that if you restart your binder session the information will be\n",
    "lost. To keep a permanent version on your machine, click on File and\n",
    "then Download as and then Notebook. When you restart your binder session\n",
    "on the directory page select Upload and then upload your file. You can\n",
    "then run it from there.\n",
    "\n",
    "You can also use <a href=\"https://colab.research.google.com/\" class=\"uri\">Google Colab</a> for this exercise. You will need to use the tab on \n",
    "the left hand side to load the data files which you can download from the github repo.\n",
    "\n",
    "You can run Jupyter directly from the department server, (download the repository and type jupyter notebook from the command line). \n",
    "\n",
    "Finally, you can also run Jupyter from your own computer. Instructions on\n",
    "this can be found at\n",
    "<a href=\"https://jupyter.org/install\" class=\"uri\">https://jupyter.org/install</a>. If you do not have it you, \n",
    "<a href=\"https://docs.anaconda.com/anaconda/install/\" class=\"uri\"> anaconda </a> is a handy tool to download Python and Jupyter in one bundle."
   ]
  },
  {
   "cell_type": "code",
   "execution_count": 1,
   "id": "749af97c",
   "metadata": {},
   "outputs": [],
   "source": [
    "# RUN ME FIRST!\n",
    "from okgrade import grade"
   ]
  },
  {
   "cell_type": "markdown",
   "id": "924f580a",
   "metadata": {},
   "source": [
    "NumPy Introduction\n",
    "==================\n",
    "\n",
    "We will make use of NumPy for this course to work with vectors and\n",
    "matrices. It’s worth keeping an eye on the QuickStart tutorial to NumPy\n",
    "(which we copy from a great deal here)\n",
    "\n",
    "<a href=\"https://docs.scipy.org/doc/numpy/user/\" class=\"uri\">https://docs.scipy.org/doc/numpy/user/</a>\n",
    "\n",
    "and the NumPy manual at\n",
    "\n",
    "<a href=\"https://docs.scipy.org/doc/numpy/index.html\" class=\"uri\">https://docs.scipy.org/doc/numpy/index.html</a>\n",
    ".\n",
    "\n",
    "The following will import this library into your session"
   ]
  },
  {
   "cell_type": "code",
   "execution_count": 2,
   "id": "cbbfb651",
   "metadata": {},
   "outputs": [],
   "source": [
    "import numpy as np"
   ]
  },
  {
   "cell_type": "markdown",
   "id": "06e48b48",
   "metadata": {},
   "source": [
    "Grader Introduction\n",
    "==================\n",
    "\n",
    "In each notebook there are a series of *code cells* underneath every checkpoint which will run tests on your solutions. You should run them and move onto the next checkpoint. Run the following code below:"
   ]
  },
  {
   "cell_type": "code",
   "execution_count": 3,
   "id": "a9f57d16",
   "metadata": {},
   "outputs": [
    {
     "data": {
      "text/html": [
       "<pre>tests/import.ok: All tests passed!</pre>"
      ],
      "text/plain": [
       "<okgrade.result.TestResult at 0x103843e50>"
      ]
     },
     "execution_count": 3,
     "metadata": {},
     "output_type": "execute_result"
    }
   ],
   "source": [
    "grade('tests/import.ok')"
   ]
  },
  {
   "cell_type": "markdown",
   "id": "cf14c1d4",
   "metadata": {},
   "source": [
    "You should have gotten an output that looks something like this:\n",
    "\n",
    "`Out[1]: tests/import.ok: All tests passed!`\n",
    "\n",
    "It's possible that the tests will fail however and if that happens, hints will be given to you in the output of the test. For example, if you had not imported Numpy, you would expect to see something like this:\n",
    "\n",
    "```\n",
    "Test numpy-import 1 failed!\n",
    "\n",
    "Test code:\n",
    "\n",
    "            >>> # Numpy has not been imported!\n",
    "\t\t    >>> # Check that you have executed the 'import numpy as np' code cell!\n",
    "                    >>>\n",
    "\t\t    >>> np is not None\n",
    "                    True\n",
    "```\n",
    "\n",
    "The `>>>` indicates a Python prompt and the code that was run. **Hints will be given to you in the comments within these lines**, so make sure to read the errors.\n",
    "\n",
    "If you did get the output above, then run the cell under the **Numpy Introduction** section before moving on.\n",
    "\n",
    "\n"
   ]
  },
  {
   "cell_type": "markdown",
   "id": "3f3cb562",
   "metadata": {},
   "source": [
    "# Numpy — Vectors\n",
    "\n",
    "You can define a vector as follows:"
   ]
  },
  {
   "cell_type": "code",
   "execution_count": 4,
   "id": "53173a61",
   "metadata": {},
   "outputs": [],
   "source": [
    "a = np.array([1, 2, 3])"
   ]
  },
  {
   "cell_type": "markdown",
   "id": "8bfcbe2f",
   "metadata": {},
   "source": [
    "(Note the ordering of round and square brackets).\n",
    "\n",
    "Inspect the contents of `a` by executing"
   ]
  },
  {
   "cell_type": "code",
   "execution_count": 5,
   "id": "d974c131",
   "metadata": {},
   "outputs": [
    {
     "data": {
      "text/plain": [
       "array([1, 2, 3])"
      ]
     },
     "execution_count": 5,
     "metadata": {},
     "output_type": "execute_result"
    }
   ],
   "source": [
    "a"
   ]
  },
  {
   "cell_type": "markdown",
   "id": "32cc4a74",
   "metadata": {},
   "source": [
    "You can access individual components directly as you would like any\n",
    "other array"
   ]
  },
  {
   "cell_type": "code",
   "execution_count": 6,
   "id": "50318736",
   "metadata": {},
   "outputs": [
    {
     "data": {
      "text/plain": [
       "1"
      ]
     },
     "execution_count": 6,
     "metadata": {},
     "output_type": "execute_result"
    }
   ],
   "source": [
    "a[0]"
   ]
  },
  {
   "cell_type": "markdown",
   "id": "7a518094",
   "metadata": {},
   "source": [
    "**CHECKPOINT 1: Define a variable 'a_2' and set it equal to the second entry in\n",
    "`a`.**"
   ]
  },
  {
   "cell_type": "code",
   "execution_count": 7,
   "id": "f08794b8",
   "metadata": {},
   "outputs": [],
   "source": [
    "a_2 = a[1]"
   ]
  },
  {
   "cell_type": "code",
   "execution_count": 8,
   "id": "2db1e4d9",
   "metadata": {},
   "outputs": [
    {
     "data": {
      "text/html": [
       "<pre>tests/cp1.ok: All tests passed!</pre>"
      ],
      "text/plain": [
       "<okgrade.result.TestResult at 0x104133f40>"
      ]
     },
     "execution_count": 8,
     "metadata": {},
     "output_type": "execute_result"
    }
   ],
   "source": [
    "grade('tests/cp1.ok')"
   ]
  },
  {
   "cell_type": "markdown",
   "id": "83e638b1",
   "metadata": {},
   "source": [
    "The vector `a` has an associated set of methods including a nicer print\n",
    "statement."
   ]
  },
  {
   "cell_type": "code",
   "execution_count": 9,
   "id": "9c621097",
   "metadata": {},
   "outputs": [
    {
     "name": "stdout",
     "output_type": "stream",
     "text": [
      "[1 2 3]\n"
     ]
    }
   ],
   "source": [
    "print(a)"
   ]
  },
  {
   "cell_type": "markdown",
   "id": "bae0c39e",
   "metadata": {},
   "source": [
    "The entries in `a` can be integers, floats and so on. Since Python is a\n",
    "dynamically typed language, it tries to figure that out on the fly. One\n",
    "can check the type as follows"
   ]
  },
  {
   "cell_type": "code",
   "execution_count": 10,
   "id": "8fe08a3a",
   "metadata": {},
   "outputs": [
    {
     "data": {
      "text/plain": [
       "'int64'"
      ]
     },
     "execution_count": 10,
     "metadata": {},
     "output_type": "execute_result"
    }
   ],
   "source": [
    "a.dtype.name"
   ]
  },
  {
   "cell_type": "markdown",
   "id": "e0d3d382",
   "metadata": {},
   "source": [
    "*Question* - what type did you get?\n",
    "\n",
    "**CHECKPOINT 2: Create another vector `b`, [4, 5, 6], but where the entries are of type float.**\n",
    "\n",
    "Hint: Refer to the Numpy documentation on how to specify the *dtype* of an array."
   ]
  },
  {
   "cell_type": "code",
   "execution_count": 13,
   "id": "1f1fbba4",
   "metadata": {},
   "outputs": [],
   "source": [
    "b = np.array([4., 5., 6.])"
   ]
  },
  {
   "cell_type": "code",
   "execution_count": 14,
   "id": "f1926520",
   "metadata": {},
   "outputs": [
    {
     "data": {
      "text/html": [
       "<pre>tests/cp2.ok: All tests passed!</pre>"
      ],
      "text/plain": [
       "<okgrade.result.TestResult at 0x104133fd0>"
      ]
     },
     "execution_count": 14,
     "metadata": {},
     "output_type": "execute_result"
    }
   ],
   "source": [
    "grade('tests/cp2.ok')"
   ]
  },
  {
   "cell_type": "markdown",
   "id": "42a26ee2",
   "metadata": {},
   "source": [
    "There is a transpose operation, but for vectors defined this way it\n",
    "doesn’t really do anything. We’ll get back to this in the second lab."
   ]
  },
  {
   "cell_type": "code",
   "execution_count": 15,
   "id": "b13b6cc1",
   "metadata": {},
   "outputs": [
    {
     "data": {
      "text/plain": [
       "array([1, 2, 3])"
      ]
     },
     "execution_count": 15,
     "metadata": {},
     "output_type": "execute_result"
    }
   ],
   "source": [
    "a.T"
   ]
  },
  {
   "cell_type": "markdown",
   "id": "a384d7d5",
   "metadata": {},
   "source": [
    "NumPy — Operations\n",
    "==================\n",
    "\n",
    "We define the following set of new vectors."
   ]
  },
  {
   "cell_type": "code",
   "execution_count": null,
   "id": "f8ec8ee7",
   "metadata": {},
   "outputs": [],
   "source": [
    "c = np.array([1.,2.])"
   ]
  },
  {
   "cell_type": "code",
   "execution_count": null,
   "id": "b86f7886",
   "metadata": {},
   "outputs": [],
   "source": [
    "d = np.array([2.,1.])"
   ]
  },
  {
   "cell_type": "markdown",
   "id": "d16a3541",
   "metadata": {},
   "source": [
    "We can do many of the simple operations such as multiplication by a\n",
    "scalar, adding and subtracting vectors. **Ask yourself what the output\n",
    "should be before pressing enter.**\n",
    "\n",
    "Type"
   ]
  },
  {
   "cell_type": "code",
   "execution_count": null,
   "id": "1e0b2920",
   "metadata": {},
   "outputs": [],
   "source": [
    "2. * c"
   ]
  },
  {
   "cell_type": "code",
   "execution_count": null,
   "id": "e7b387dd",
   "metadata": {},
   "outputs": [],
   "source": [
    "-.123 * d"
   ]
  },
  {
   "cell_type": "code",
   "execution_count": null,
   "id": "7b96b7a2",
   "metadata": {},
   "outputs": [],
   "source": [
    "c + d"
   ]
  },
  {
   "cell_type": "code",
   "execution_count": null,
   "id": "c74675d6",
   "metadata": {},
   "outputs": [],
   "source": [
    "c - d"
   ]
  },
  {
   "cell_type": "markdown",
   "id": "c9559ae6",
   "metadata": {},
   "source": [
    "As these vectors are objects, one needs to be careful when copying them\n",
    "as using $=$ only passes the reference.\n",
    "\n",
    "Type"
   ]
  },
  {
   "cell_type": "code",
   "execution_count": null,
   "id": "e2449013",
   "metadata": {},
   "outputs": [],
   "source": [
    "u = c"
   ]
  },
  {
   "cell_type": "code",
   "execution_count": null,
   "id": "9124b646",
   "metadata": {},
   "outputs": [],
   "source": [
    "print(u)"
   ]
  },
  {
   "cell_type": "code",
   "execution_count": null,
   "id": "754c7fe0",
   "metadata": {},
   "outputs": [],
   "source": [
    "c *= 3"
   ]
  },
  {
   "cell_type": "code",
   "execution_count": null,
   "id": "76664238",
   "metadata": {},
   "outputs": [],
   "source": [
    "print(u)"
   ]
  },
  {
   "cell_type": "markdown",
   "id": "7969a074",
   "metadata": {},
   "source": [
    "If you use the `copy` method then the values of the vector are copied\n",
    "across.\n",
    "\n",
    "Type"
   ]
  },
  {
   "cell_type": "code",
   "execution_count": null,
   "id": "4c73d49b",
   "metadata": {},
   "outputs": [],
   "source": [
    "u = c.copy()"
   ]
  },
  {
   "cell_type": "code",
   "execution_count": null,
   "id": "3a48ee8d",
   "metadata": {},
   "outputs": [],
   "source": [
    "print(u)"
   ]
  },
  {
   "cell_type": "code",
   "execution_count": null,
   "id": "4adbd466",
   "metadata": {},
   "outputs": [],
   "source": [
    "c *= 3"
   ]
  },
  {
   "cell_type": "markdown",
   "id": "d1c0fc6e",
   "metadata": {},
   "source": [
    "**What will `u` look like now?**"
   ]
  },
  {
   "cell_type": "code",
   "execution_count": null,
   "id": "5fae8594",
   "metadata": {},
   "outputs": [],
   "source": [
    "print(u)"
   ]
  },
  {
   "cell_type": "markdown",
   "id": "01599135",
   "metadata": {},
   "source": [
    "One can compute the dot product between any two vectors. Type"
   ]
  },
  {
   "cell_type": "code",
   "execution_count": null,
   "id": "88bbf6fd",
   "metadata": {},
   "outputs": [],
   "source": [
    "c = np.array([1.,2.])"
   ]
  },
  {
   "cell_type": "code",
   "execution_count": null,
   "id": "22929d04",
   "metadata": {},
   "outputs": [],
   "source": [
    "c.dot(d)"
   ]
  },
  {
   "cell_type": "markdown",
   "id": "bbefb476",
   "metadata": {},
   "source": [
    "**CHECKPOINT Create a new vector that is orthogonal to `c`. Demonstrate\n",
    "numerically that it is orthogonal.**"
   ]
  },
  {
   "cell_type": "code",
   "execution_count": null,
   "id": "9d2c2240",
   "metadata": {},
   "outputs": [],
   "source": []
  },
  {
   "cell_type": "markdown",
   "id": "94f8a512",
   "metadata": {},
   "source": [
    "There isn’t a length function in NumPy but you can easily construct one.\n",
    "\n",
    "Type"
   ]
  },
  {
   "cell_type": "code",
   "execution_count": null,
   "id": "0028074b",
   "metadata": {},
   "outputs": [],
   "source": [
    "import math"
   ]
  },
  {
   "cell_type": "code",
   "execution_count": null,
   "id": "1e15adc9",
   "metadata": {},
   "outputs": [],
   "source": [
    "math.sqrt(d.dot(d))"
   ]
  },
  {
   "cell_type": "markdown",
   "id": "073b016d",
   "metadata": {},
   "source": [
    "**CHECKPOINT Write a short function to compute the length of a vector.**"
   ]
  },
  {
   "cell_type": "code",
   "execution_count": null,
   "id": "b2cee03b",
   "metadata": {},
   "outputs": [],
   "source": []
  },
  {
   "cell_type": "markdown",
   "id": "3997d016",
   "metadata": {},
   "source": [
    "One can determine a unit vector `du` for a vector `d`.\n",
    "\n",
    "Type"
   ]
  },
  {
   "cell_type": "code",
   "execution_count": null,
   "id": "af7721bc",
   "metadata": {},
   "outputs": [],
   "source": [
    "du=d/math.sqrt(d.dot(d))"
   ]
  },
  {
   "cell_type": "markdown",
   "id": "75485a26",
   "metadata": {},
   "source": [
    "**CHECKPOINT Write a short function to compute the unit vector that is\n",
    "parallel with an inputted vector. Do a check to make sure that vector\n",
    "inputted is not the Null vector. Use that function to check that the new vector is a unit vector.** "
   ]
  },
  {
   "cell_type": "code",
   "execution_count": null,
   "id": "8103c666",
   "metadata": {},
   "outputs": [],
   "source": []
  },
  {
   "cell_type": "markdown",
   "id": "76826dee",
   "metadata": {},
   "source": [
    "Higher dimensional example - character frequencies in different languages.\n",
    "==========================================================================\n",
    "\n",
    "If you are given a piece of text, then it is possible to compute the\n",
    "frequency of occurence of each of the lower case letters in that text.\n",
    "It turns out that the frequency of these letters is relatively fixed\n",
    "from language to language (although this should not seen as an\n",
    "absolutely fixed set of frequencies as every text can represent a\n",
    "different style). It turns out that these frequencies are surprisingly\n",
    "constant between different texts taken from the same language. We can\n",
    "even use it to decrypt texts.\n",
    "\n",
    "Put more mathematically for each text $\\mathcal T$ we can compute the\n",
    "frequency of each letter $f_a^{\\mathcal T}$, $f_b^{\\mathcal T}$ ,\n",
    "$\\dots$ where $f_a^{\\mathcal T}$ is the frequency of lower case “a”’s in\n",
    "$\\mathcal T$ and so on. For the English alphabet there are 26 letters,\n",
    "so we can construct a vector $\\underline{f}^{\\mathcal T}$ of those\n",
    "frequencies. So, $\\underline{f}^{\\mathcal T}$ is a vector *with 26\n",
    "entries*.\n",
    "\n",
    "We can then compare how similar two texts $A$ and $B$ are by comparing\n",
    "their frequencies. Let’s suppose that their corresponding frequency\n",
    "vectors are $\\underline{f}^A$ and $\\underline{f}^B$. We can easily\n",
    "compute cosine of the angle between these two vectors by computing\n",
    "$$\\cos \\theta \\;\\; = \\;\\; \\frac{{\\underline{f^A}^\\intercal} \\cdot {\\underline{f^B}}}{|\\underline{f^A}||\\underline{f^B}|} \\;\\; .$$\n",
    "\n",
    "Remember -\n",
    "\n",
    "1.  if $\\cos \\theta = 1$ then $\\underline{f}^A$ and $\\underline{f}^B$\n",
    "    are parallel to each other, which indicates their frequencies are\n",
    "    very similar.\n",
    "\n",
    "2.  It doesn’t matter about the number of dimensions, the above\n",
    "    relationship still holds (not just for two or three dimensions).\n",
    "\n",
    "We can test this in Python. To do this you will write Python code to\n",
    "compute the frequency of letters for a text and then to compute the dot\n",
    "product between different frequency vectors. Without looking at the\n",
    "files one can check if texts are from the same language or not.\n",
    "\n",
    "In the cell below are two functions that will read in a text and return\n",
    "a string and another function which will return a vector with the\n",
    "*incidence* of lower case letters (i.e. how many times the letter “a”\n",
    "occurs and so on) in a string."
   ]
  },
  {
   "cell_type": "code",
   "execution_count": null,
   "id": "d1097f7e",
   "metadata": {},
   "outputs": [],
   "source": [
    "import re\n",
    "\n",
    "def getString(fn):\n",
    "    f = open(fn,'r')\n",
    "    myString = f.read()\n",
    "    return myString.lower()\n",
    "\n",
    "def getIncidence(string):\n",
    "    letters = \"abcdefghijklmnopqrstuvwxyz\"\n",
    "    Nc = len(letters)\n",
    "    n = np.zeros(Nc,dtype=np.float64)\n",
    "    i = 0\n",
    "    for c in letters:\n",
    "        x = re.findall(c,string)\n",
    "        n[i] = len(x) * 1.0\n",
    "        i += 1\n",
    "    return n"
   ]
  },
  {
   "cell_type": "markdown",
   "id": "152dc1bb",
   "metadata": {},
   "source": [
    "**CHECKPOINT Write a function that will compute the frequency vector of\n",
    "the text found in a text file. The input is the file name of the text\n",
    "file name and the output is the frequency vector for that file. If\n",
    "$\\underline{n}$ is the vector of incidences then\n",
    "$$f_i \\;\\; = \\;\\; \\frac{n_i}{\\sum_j n_j} \\;\\; .$$ If you look in the NumPy\n",
    "documentation you will a function to compute the denominator of this.\n",
    "*This is not the same as computing the unit vector - prove this to\n",
    "yourself*.**"
   ]
  },
  {
   "cell_type": "code",
   "execution_count": null,
   "id": "d192ff84",
   "metadata": {},
   "outputs": [],
   "source": []
  },
  {
   "cell_type": "markdown",
   "id": "cc9cb4ba",
   "metadata": {},
   "source": [
    "**CHECKPOINT Write a function to compute the cosine of the angle between\n",
    "two text frequency vectors. You will need the `math` library.**"
   ]
  },
  {
   "cell_type": "code",
   "execution_count": null,
   "id": "c52bb613",
   "metadata": {},
   "outputs": [],
   "source": []
  },
  {
   "cell_type": "markdown",
   "id": "bd8425e9",
   "metadata": {},
   "source": [
    "**CHECKPOINT In the Jupyter folder there are three files, Dutch.txt,\n",
    "English.txt and unknown.txt. The first two files are the same text in\n",
    "Dutch and English respectively. Compute the cosines between the\n",
    "resulting frequency vectors of the three texts and try and determine the\n",
    "language of the file unknown.txt.**"
   ]
  },
  {
   "cell_type": "code",
   "execution_count": null,
   "id": "a44c3762",
   "metadata": {},
   "outputs": [],
   "source": []
  },
  {
   "cell_type": "markdown",
   "id": "94a9e010",
   "metadata": {},
   "source": [
    "Extension work\n",
    "==============\n",
    "\n",
    "Rotation encryption is one of the oldest methods for encrypting\n",
    "texts.[1] The idea is relatively simple. Each letter in a text is\n",
    "exchanged with a letter that is a specific number down from it in the\n",
    "alphabetical sequence. So with a encryption rotation with an offset of\n",
    "one would exchange\n",
    "\n",
    "`a` $\\rightarrow$ `b`,\n",
    "\n",
    "`b` $\\rightarrow$ `c`,\n",
    "\n",
    "$\\dots$\n",
    "\n",
    "`z` $\\rightarrow$ `a`.\n",
    "\n",
    "The cipher rotation with an offset of 13 (or ROT-13) would be `a`\n",
    "$\\rightarrow$ `n` and so on.\n",
    "\n",
    "If ones knows the offset, then one can decrypt the text by either\n",
    "performing the reverse transformation on the encrypted text or\n",
    "equivalently apply the transformation with a new offset where the sum of\n",
    "the offsets is 26 (the number of letters in the alphabet). So in the\n",
    "first case if a text has an encryption rotation with a offset of 1\n",
    "applied to it and is then followed by an encryption rotation of 25 we\n",
    "end up with the same text. Two applications of ROT-13 likewise return\n",
    "you to the same text.\n",
    "\n",
    "This encryption method can be very easily broken using the letter\n",
    "frequency method that was discussed in the last set of lab materials. In\n",
    "particular, *the frequencies of the letters will remain the same,\n",
    "regardless of how they are transformed*. Furthermore if you have a\n",
    "reference text, which you know is from the same language as the\n",
    "encrypted text, then you can compare the frequencies to determine what\n",
    "was the offset was.\n",
    "\n",
    "If one applies the encryption rotation algorithm with right offset on\n",
    "the encrypted text then the cosine of the angle between the two\n",
    "frequency vectors should be close to 1.\n",
    "\n",
    "The following function takes a string and carries out a rotation of a\n",
    "string.\n",
    "\n",
    "[1] The fact that it’s sometimes called the “Caesar Cipher” gives you an\n",
    "idea of how old it is!"
   ]
  },
  {
   "cell_type": "code",
   "execution_count": null,
   "id": "1ec4e6ca",
   "metadata": {},
   "outputs": [],
   "source": [
    "import sys\n",
    "\n",
    "def rot(s,shift):\n",
    "    result = \"\"\n",
    "    numLetters = 26\n",
    "    if ( shift < -(numLetters-1) or shift > (numLetters-1) ):\n",
    "        print(\"Error in rot function - shift must be > -25 and < 25\")\n",
    "        sys.exit(-1)\n",
    "    for v in s:\n",
    "        o, c, upper = v, v.lower(), v.isupper()\n",
    "        if c >= 'a' and c <= 'z':\n",
    "            deltaO = ord(c) - ord('a')\n",
    "            deltaN = (deltaO + shift) % numLetters\n",
    "            c = chr(ord('a') + deltaN)\n",
    "        c = c.upper() if upper else c\n",
    "        result += c\n",
    "\n",
    "    return result"
   ]
  },
  {
   "cell_type": "markdown",
   "id": "2b7a0cc6",
   "metadata": {},
   "source": [
    "**CHECKPOINT In the Jupyter folder there is a piece of English text\n",
    "encrypted using this approach called Englishencrypt.txt Using the above\n",
    "function try and decrypt the text just by comparing the cosine of the\n",
    "frequency vectors between the rotated text and the reference English.txt\n",
    "file.**"
   ]
  },
  {
   "cell_type": "code",
   "execution_count": null,
   "id": "cd1f32f5",
   "metadata": {},
   "outputs": [],
   "source": []
  }
 ],
 "metadata": {
  "kernelspec": {
   "display_name": "Python 3 (ipykernel)",
   "language": "python",
   "name": "python3"
  },
  "language_info": {
   "codemirror_mode": {
    "name": "ipython",
    "version": 3
   },
   "file_extension": ".py",
   "mimetype": "text/x-python",
   "name": "python",
   "nbconvert_exporter": "python",
   "pygments_lexer": "ipython3",
   "version": "3.9.7"
  }
 },
 "nbformat": 4,
 "nbformat_minor": 5
}
